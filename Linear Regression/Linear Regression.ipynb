{
 "cells": [
  {
   "cell_type": "markdown",
   "id": "fd155961",
   "metadata": {},
   "source": [
    "# Mathematical Approach For Linear Regression"
   ]
  },
  {
   "cell_type": "code",
   "execution_count": 1,
   "id": "a08aa6c7",
   "metadata": {},
   "outputs": [],
   "source": [
    "import numpy as np\n",
    "import matplotlib.pyplot as plt"
   ]
  },
  {
   "cell_type": "code",
   "execution_count": 2,
   "id": "53444994",
   "metadata": {},
   "outputs": [],
   "source": [
    "# Features\n",
    "X = np.array([2.3, 6.4, 6.8, 7.9, 8.5, 9.8, 11.2])\n",
    "\n",
    "# Labels (Consider Same No# as features)\n",
    "Y = np.array([3.2, 4.3, 5.6, 6.4, 7.6, 8.9, 10.3])"
   ]
  },
  {
   "cell_type": "code",
   "execution_count": 4,
   "id": "44322ec8",
   "metadata": {},
   "outputs": [
    {
     "data": {
      "image/png": "[encoded data removed]",
      "text/plain": [
       "<Figure size 432x288 with 1 Axes>"
      ]
     },
     "metadata": {
      "needs_background": "light"
     },
     "output_type": "display_data"
    }
   ],
   "source": [
    "plt.scatter(X, Y)\n",
    "plt.show()"
   ]
  },
  {
   "cell_type": "code",
   "execution_count": 5,
   "id": "48f26433",
   "metadata": {},
   "outputs": [
    {
     "name": "stdout",
     "output_type": "stream",
     "text": [
      "7.557142857142858 6.614285714285714\n"
     ]
    }
   ],
   "source": [
    "xmean = X.mean()\n",
    "ymean = Y.mean()\n",
    "\n",
    "print(xmean, ymean)"
   ]
  },
  {
   "cell_type": "code",
   "execution_count": 6,
   "id": "33557a6e",
   "metadata": {},
   "outputs": [
    {
     "name": "stdout",
     "output_type": "stream",
     "text": [
      "0.8351754385964912\n",
      "0.3027456140350866\n"
     ]
    }
   ],
   "source": [
    "num = 0\n",
    "den = 0\n",
    "\n",
    "for i in range(len(X)):\n",
    "    num += (X[i] - xmean) * (Y[i] - ymean)\n",
    "    den += (X[i] - xmean)**2\n",
    "    \n",
    "m = num/den # Slope\n",
    "print(m)\n",
    "\n",
    "b = ymean - m*xmean # Intercept\n",
    "print(b)"
   ]
  },
  {
   "cell_type": "code",
   "execution_count": 7,
   "id": "0a59b455",
   "metadata": {},
   "outputs": [],
   "source": [
    "a = np.arange(2, 12)\n",
    "d = m*a + b"
   ]
  },
  {
   "cell_type": "code",
   "execution_count": 10,
   "id": "7075c57f",
   "metadata": {},
   "outputs": [
    {
     "data": {
      "image/png": "[encoded data removed]",
      "text/plain": [
       "<Figure size 432x288 with 1 Axes>"
      ]
     },
     "metadata": {
      "needs_background": "light"
     },
     "output_type": "display_data"
    }
   ],
   "source": [
    "plt.scatter(X, Y)\n",
    "plt.plot(a, d, color='r')\n",
    "plt.show()"
   ]
  },
  {
   "cell_type": "code",
   "execution_count": null,
   "id": "9885a631",
   "metadata": {},
   "outputs": [],
   "source": []
  },
  {
   "cell_type": "markdown",
   "id": "e1443a74",
   "metadata": {},
   "source": [
    "# Library Approach - Scikit Learn"
   ]
  },
  {
   "cell_type": "code",
   "execution_count": 11,
   "id": "4d918aad",
   "metadata": {},
   "outputs": [],
   "source": [
    "from sklearn.linear_model import LinearRegression"
   ]
  },
  {
   "cell_type": "code",
   "execution_count": 13,
   "id": "029096eb",
   "metadata": {},
   "outputs": [],
   "source": [
    "# Save in Model Variable\n",
    "model = LinearRegression()"
   ]
  },
  {
   "cell_type": "code",
   "execution_count": 14,
   "id": "c17b1c90",
   "metadata": {},
   "outputs": [
    {
     "data": {
      "text/plain": [
       "array([ 2.3,  6.4,  6.8,  7.9,  8.5,  9.8, 11.2])"
      ]
     },
     "execution_count": 14,
     "metadata": {},
     "output_type": "execute_result"
    }
   ],
   "source": [
    "X"
   ]
  },
  {
   "cell_type": "code",
   "execution_count": 15,
   "id": "8aa70aaf",
   "metadata": {},
   "outputs": [
    {
     "data": {
      "text/plain": [
       "array([ 3.2,  4.3,  5.6,  6.4,  7.6,  8.9, 10.3])"
      ]
     },
     "execution_count": 15,
     "metadata": {},
     "output_type": "execute_result"
    }
   ],
   "source": [
    "Y"
   ]
  },
  {
   "cell_type": "code",
   "execution_count": 17,
   "id": "7fa36d4f",
   "metadata": {},
   "outputs": [],
   "source": [
    "X = X.reshape(-1,1)\n",
    "Y = Y.reshape(-1,1)"
   ]
  },
  {
   "cell_type": "code",
   "execution_count": 18,
   "id": "37d7511e",
   "metadata": {},
   "outputs": [
    {
     "data": {
      "text/plain": [
       "array([[ 2.3],\n",
       "       [ 6.4],\n",
       "       [ 6.8],\n",
       "       [ 7.9],\n",
       "       [ 8.5],\n",
       "       [ 9.8],\n",
       "       [11.2]])"
      ]
     },
     "execution_count": 18,
     "metadata": {},
     "output_type": "execute_result"
    }
   ],
   "source": [
    "X"
   ]
  },
  {
   "cell_type": "code",
   "execution_count": 19,
   "id": "d8fc7120",
   "metadata": {},
   "outputs": [
    {
     "data": {
      "text/plain": [
       "array([[ 3.2],\n",
       "       [ 4.3],\n",
       "       [ 5.6],\n",
       "       [ 6.4],\n",
       "       [ 7.6],\n",
       "       [ 8.9],\n",
       "       [10.3]])"
      ]
     },
     "execution_count": 19,
     "metadata": {},
     "output_type": "execute_result"
    }
   ],
   "source": [
    "Y"
   ]
  },
  {
   "cell_type": "code",
   "execution_count": 20,
   "id": "25310421",
   "metadata": {},
   "outputs": [
    {
     "data": {
      "text/plain": [
       "LinearRegression()"
      ]
     },
     "execution_count": 20,
     "metadata": {},
     "output_type": "execute_result"
    }
   ],
   "source": [
    "model.fit(X,Y) # To Train Model fit Function"
   ]
  },
  {
   "cell_type": "code",
   "execution_count": 22,
   "id": "8caca8ba",
   "metadata": {},
   "outputs": [
    {
     "data": {
      "text/plain": [
       "array([[0.83517544]])"
      ]
     },
     "execution_count": 22,
     "metadata": {},
     "output_type": "execute_result"
    }
   ],
   "source": [
    "model.coef_ # Slope Value"
   ]
  },
  {
   "cell_type": "code",
   "execution_count": 23,
   "id": "0e235484",
   "metadata": {},
   "outputs": [
    {
     "data": {
      "text/plain": [
       "array([0.30274561])"
      ]
     },
     "execution_count": 23,
     "metadata": {},
     "output_type": "execute_result"
    }
   ],
   "source": [
    "model.intercept_ # Intercept Value"
   ]
  },
  {
   "cell_type": "code",
   "execution_count": 30,
   "id": "4f602480",
   "metadata": {},
   "outputs": [
    {
     "name": "stdout",
     "output_type": "stream",
     "text": [
      "0.8351754385964911 0.3027456140350875\n"
     ]
    }
   ],
   "source": [
    "m = model.coef_[0][0]\n",
    "b = model.intercept_[0]\n",
    "print(m,b)"
   ]
  },
  {
   "cell_type": "code",
   "execution_count": 31,
   "id": "a49b519d",
   "metadata": {},
   "outputs": [],
   "source": [
    "a = np.arange(2, 12)\n",
    "d = m*a + b"
   ]
  },
  {
   "cell_type": "code",
   "execution_count": 32,
   "id": "532194c9",
   "metadata": {},
   "outputs": [
    {
     "data": {
      "image/png": "[encoded data removed]",
      "text/plain": [
       "<Figure size 432x288 with 1 Axes>"
      ]
     },
     "metadata": {
      "needs_background": "light"
     },
     "output_type": "display_data"
    }
   ],
   "source": [
    "plt.scatter(X, Y)\n",
    "plt.plot(a, d, color='r')\n",
    "plt.show()"
   ]
  },
  {
   "cell_type": "code",
   "execution_count": null,
   "id": "e9dbb28b",
   "metadata": {},
   "outputs": [],
   "source": []
  }
 ],
 "metadata": {
  "kernelspec": {
   "display_name": "Python 3 (ipykernel)",
   "language": "python",
   "name": "python3"
  },
  "language_info": {
   "codemirror_mode": {
    "name": "ipython",
    "version": 3
   },
   "file_extension": ".py",
   "mimetype": "text/x-python",
   "name": "python",
   "nbconvert_exporter": "python",
   "pygments_lexer": "ipython3",
   "version": "3.9.5"
  }
 },
 "nbformat": 4,
 "nbformat_minor": 5
}
